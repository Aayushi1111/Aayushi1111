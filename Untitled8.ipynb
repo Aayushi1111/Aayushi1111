{
  "nbformat": 4,
  "nbformat_minor": 0,
  "metadata": {
    "colab": {
      "provenance": [],
      "include_colab_link": true
    },
    "kernelspec": {
      "name": "python3",
      "display_name": "Python 3"
    },
    "language_info": {
      "name": "python"
    }
  },
  "cells": [
    {
      "cell_type": "markdown",
      "metadata": {
        "id": "view-in-github",
        "colab_type": "text"
      },
      "source": [
        "<a href=\"https://colab.research.google.com/github/Aayushi1111/Aayushi1111/blob/main/Untitled8.ipynb\" target=\"_parent\"><img src=\"https://colab.research.google.com/assets/colab-badge.svg\" alt=\"Open In Colab\"/></a>"
      ]
    },
    {
      "cell_type": "code",
      "execution_count": null,
      "metadata": {
        "id": "YD6QheMuV8-e",
        "colab": {
          "base_uri": "https://localhost:8080/",
          "height": 419
        },
        "outputId": "86d3f379-4552-4281-f035-cc1e8be85719"
      },
      "outputs": [
        {
          "output_type": "error",
          "ename": "DisabledFunctionError",
          "evalue": "cv2.imshow() is disabled in Colab, because it causes Jupyter sessions\nto crash; see https://github.com/jupyter/notebook/issues/3935.\nAs a substitution, consider using\n  from google.colab.patches import cv2_imshow\n",
          "traceback": [
            "\u001b[0;31m---------------------------------------------------------------------------\u001b[0m",
            "\u001b[0;31mDisabledFunctionError\u001b[0m                     Traceback (most recent call last)",
            "\u001b[0;32m<ipython-input-1-b98f327f6f09>\u001b[0m in \u001b[0;36m<cell line: 41>\u001b[0;34m()\u001b[0m\n\u001b[1;32m     39\u001b[0m \u001b[0;34m\u001b[0m\u001b[0m\n\u001b[1;32m     40\u001b[0m \u001b[0;31m# Display the output\u001b[0m\u001b[0;34m\u001b[0m\u001b[0;34m\u001b[0m\u001b[0m\n\u001b[0;32m---> 41\u001b[0;31m \u001b[0mcv2\u001b[0m\u001b[0;34m.\u001b[0m\u001b[0mimshow\u001b[0m\u001b[0;34m(\u001b[0m\u001b[0;34m'Regularized Shapes'\u001b[0m\u001b[0;34m,\u001b[0m \u001b[0moutput\u001b[0m\u001b[0;34m)\u001b[0m\u001b[0;34m\u001b[0m\u001b[0;34m\u001b[0m\u001b[0m\n\u001b[0m\u001b[1;32m     42\u001b[0m \u001b[0mcv2\u001b[0m\u001b[0;34m.\u001b[0m\u001b[0mwaitKey\u001b[0m\u001b[0;34m(\u001b[0m\u001b[0;36m0\u001b[0m\u001b[0;34m)\u001b[0m\u001b[0;34m\u001b[0m\u001b[0;34m\u001b[0m\u001b[0m\n\u001b[1;32m     43\u001b[0m \u001b[0mcv2\u001b[0m\u001b[0;34m.\u001b[0m\u001b[0mdestroyAllWindows\u001b[0m\u001b[0;34m(\u001b[0m\u001b[0;34m)\u001b[0m\u001b[0;34m\u001b[0m\u001b[0;34m\u001b[0m\u001b[0m\n",
            "\u001b[0;32m/usr/local/lib/python3.10/dist-packages/google/colab/_import_hooks/_cv2.py\u001b[0m in \u001b[0;36mwrapped\u001b[0;34m(*args, **kwargs)\u001b[0m\n\u001b[1;32m     46\u001b[0m   \u001b[0;32mdef\u001b[0m \u001b[0mwrapped\u001b[0m\u001b[0;34m(\u001b[0m\u001b[0;34m*\u001b[0m\u001b[0margs\u001b[0m\u001b[0;34m,\u001b[0m \u001b[0;34m**\u001b[0m\u001b[0mkwargs\u001b[0m\u001b[0;34m)\u001b[0m\u001b[0;34m:\u001b[0m\u001b[0;34m\u001b[0m\u001b[0;34m\u001b[0m\u001b[0m\n\u001b[1;32m     47\u001b[0m     \u001b[0;32mif\u001b[0m \u001b[0;32mnot\u001b[0m \u001b[0mos\u001b[0m\u001b[0;34m.\u001b[0m\u001b[0menviron\u001b[0m\u001b[0;34m.\u001b[0m\u001b[0mget\u001b[0m\u001b[0;34m(\u001b[0m\u001b[0menv_var\u001b[0m\u001b[0;34m,\u001b[0m \u001b[0;32mFalse\u001b[0m\u001b[0;34m)\u001b[0m\u001b[0;34m:\u001b[0m\u001b[0;34m\u001b[0m\u001b[0;34m\u001b[0m\u001b[0m\n\u001b[0;32m---> 48\u001b[0;31m       \u001b[0;32mraise\u001b[0m \u001b[0mDisabledFunctionError\u001b[0m\u001b[0;34m(\u001b[0m\u001b[0mmessage\u001b[0m\u001b[0;34m,\u001b[0m \u001b[0mname\u001b[0m \u001b[0;32mor\u001b[0m \u001b[0mfunc\u001b[0m\u001b[0;34m.\u001b[0m\u001b[0m__name__\u001b[0m\u001b[0;34m)\u001b[0m\u001b[0;34m\u001b[0m\u001b[0;34m\u001b[0m\u001b[0m\n\u001b[0m\u001b[1;32m     49\u001b[0m     \u001b[0;32mreturn\u001b[0m \u001b[0mfunc\u001b[0m\u001b[0;34m(\u001b[0m\u001b[0;34m*\u001b[0m\u001b[0margs\u001b[0m\u001b[0;34m,\u001b[0m \u001b[0;34m**\u001b[0m\u001b[0mkwargs\u001b[0m\u001b[0;34m)\u001b[0m\u001b[0;34m\u001b[0m\u001b[0;34m\u001b[0m\u001b[0m\n\u001b[1;32m     50\u001b[0m \u001b[0;34m\u001b[0m\u001b[0m\n",
            "\u001b[0;31mDisabledFunctionError\u001b[0m: cv2.imshow() is disabled in Colab, because it causes Jupyter sessions\nto crash; see https://github.com/jupyter/notebook/issues/3935.\nAs a substitution, consider using\n  from google.colab.patches import cv2_imshow\n"
          ],
          "errorDetails": {
            "actions": [
              {
                "action": "open_snippet",
                "actionText": "Search Snippets for cv2.imshow",
                "snippetFilter": "cv2.imshow"
              }
            ]
          }
        }
      ],
      "source": [
        "#q1\n",
        "import cv2\n",
        "import numpy as np\n",
        "\n",
        "# Load the image\n",
        "image = cv2.imread('image.png', cv2.IMREAD_GRAYSCALE)\n",
        "\n",
        "# Apply binary threshold\n",
        "_, binary = cv2.threshold(image, 128, 255, cv2.THRESH_BINARY_INV)\n",
        "\n",
        "# Detect edges\n",
        "edges = cv2.Canny(binary, 50, 150)\n",
        "\n",
        "# Find contours\n",
        "contours, _ = cv2.findContours(edges, cv2.RETR_TREE, cv2.CHAIN_APPROX_SIMPLE)\n",
        "\n",
        "# Create an empty image to draw the shapes\n",
        "output = np.zeros_like(image)\n",
        "\n",
        "# Loop over contours to identify shapes\n",
        "for contour in contours:\n",
        "    # Approximate the contour\n",
        "    epsilon = 0.02 * cv2.arcLength(contour, True)\n",
        "    approx = cv2.approxPolyDP(contour, epsilon, True)\n",
        "\n",
        "    # Identify shape by the number of vertices\n",
        "    if len(approx) == 3:\n",
        "        shape = \"Triangle\"\n",
        "    elif len(approx) == 4:\n",
        "        shape = \"Rectangle or Square\"\n",
        "        # Further checks can be added here to distinguish between rectangles and rounded rectangles\n",
        "    elif len(approx) > 10:\n",
        "        shape = \"Circle or Ellipse\"\n",
        "    else:\n",
        "        shape = \"Polygon\"\n",
        "\n",
        "    # Draw the shape on the output image\n",
        "    cv2.drawContours(output, [approx], 0, 255, -1)\n",
        "\n",
        "# Display the output\n",
        "cv2.imshow('Regularized Shapes', output)\n",
        "cv2.waitKey(0)\n",
        "cv2.destroyAllWindows()\n"
      ]
    },
    {
      "cell_type": "code",
      "source": [
        "#q2\n",
        "\n",
        "import numpy as np\n",
        "import matplotlib.pyplot as plt\n",
        "from scipy.interpolate import CubicSpline\n",
        "\n",
        "# Function to read CSV files containing polyline data\n",
        "def read_csv(csv_path):\n",
        "    try:\n",
        "        np_path_XYs = np.genfromtxt(csv_path, delimiter=',', invalid_raise=False)\n",
        "    except ValueError as e:\n",
        "        print(f\"Error reading CSV file: {e}\")\n",
        "        return []\n",
        "\n",
        "    path_XYs = []\n",
        "    for i in np.unique(np_path_XYs[:, 0]):\n",
        "        npXYs = np_path_XYs[np_path_XYs[:, 0] == i][:, 1:]\n",
        "        XYs = []\n",
        "        for j in np.unique(npXYs[:, 0]):\n",
        "            XY = npXYs[npXYs[:, 0] == j][:, 1:]\n",
        "            XYs.append(XY)\n",
        "        path_XYs.append(XYs)\n",
        "    return path_XYs\n",
        "\n",
        "# Function to detect reflective symmetry in the polyline\n",
        "def detect_reflective_symmetry(XYs):\n",
        "    min_x, max_x = np.min(XYs[:, 0]), np.max(XYs[:, 0])\n",
        "    min_y, max_y = np.min(XYs[:, 1]), np.max(XYs[:, 1])\n",
        "\n",
        "    mid_x = (min_x + max_x) / 2\n",
        "    mid_y = (min_y + max_y) / 2\n",
        "\n",
        "    vertical_symmetry = True\n",
        "    for p in XYs:\n",
        "        symmetric_point = np.array([2 * mid_x - p[0], p[1]])\n",
        "        if not any(np.allclose(symmetric_point, q) for q in XYs):\n",
        "            vertical_symmetry = False\n",
        "            break\n",
        "\n",
        "    horizontal_symmetry = True\n",
        "    for p in XYs:\n",
        "        symmetric_point = np.array([p[0], 2 * mid_y - p[1]])\n",
        "        if not any(np.allclose(symmetric_point, q) for q in XYs):\n",
        "            horizontal_symmetry = False\n",
        "            break\n",
        "\n",
        "    return vertical_symmetry, horizontal_symmetry\n",
        "\n",
        "# Function to fit Bézier curves to symmetric segments\n",
        "def fit_bezier_to_symmetry(XYs, vertical_symmetry, horizontal_symmetry):\n",
        "    if vertical_symmetry or horizontal_symmetry:\n",
        "        sorted_XYs = XYs[np.argsort(XYs[:, 0] if vertical_symmetry else XYs[:, 1])]\n",
        "\n",
        "        n = len(sorted_XYs) // 2\n",
        "        curve_segments = []\n",
        "        for i in range(n):\n",
        "            p0, p1 = sorted_XYs[i], sorted_XYs[-(i+1)]\n",
        "            cs = CubicSpline([0, 1], np.vstack([p0, p1]), axis=0)\n",
        "            curve_segments.append(cs)\n",
        "\n",
        "        return curve_segments\n",
        "    else:\n",
        "        return None\n",
        "\n",
        "# Function to visualize Bézier curves\n",
        "def plot_bezier_curves(curve_segments):\n",
        "    fig, ax = plt.subplots(figsize=(8, 8))\n",
        "    for cs in curve_segments:\n",
        "        t = np.linspace(0, 1, 100)\n",
        "        bezier_points = cs(t)\n",
        "        ax.plot(bezier_points[:, 0], bezier_points[:, 1], 'b-', linewidth=2)\n",
        "\n",
        "    ax.set_aspect('equal')\n",
        "    plt.show()\n",
        "\n",
        "# Function to visualize original polylines\n",
        "def plot(paths_XYs):\n",
        "    fig, ax = plt.subplots(tight_layout=True, figsize=(8, 8))\n",
        "    colours = ['r', 'g', 'b', 'c', 'm', 'y', 'k']\n",
        "    for i, XYs in enumerate(paths_XYs):\n",
        "        c = colours[i % len(colours)]\n",
        "        for XY in XYs:\n",
        "            ax.plot(XY[:, 0], XY[:, 1], c=c, linewidth=2)\n",
        "    ax.set_aspect('equal')\n",
        "    plt.show()\n",
        "\n",
        "# Main function to process the polylines\n",
        "def process_polylines(csv_path):\n",
        "    paths_XYs = read_csv(csv_path)\n",
        "\n",
        "    for path_XYs in paths_XYs:\n",
        "        for XYs in path_XYs:\n",
        "            vertical_symmetry, horizontal_symmetry = detect_reflective_symmetry(XYs)\n",
        "            curve_segments = fit_bezier_to_symmetry(XYs, vertical_symmetry, horizontal_symmetry)\n",
        "\n",
        "            if curve_segments:\n",
        "                print(\"Symmetry detected!\")\n",
        "                plot_bezier_curves(curve_segments)\n",
        "            else:\n",
        "                print(\"No symmetry detected.\")\n",
        "\n",
        "    plot(paths_XYs)\n",
        "\n",
        "process_polylines('master_doodle_dataframe.csv')\n"
      ],
      "metadata": {
        "id": "uiqbiaEznTZR"
      },
      "execution_count": null,
      "outputs": []
    },
    {
      "cell_type": "code",
      "source": [
        "#q3\n",
        "import cv2\n",
        "import numpy as np\n",
        "\n",
        "# Load the image\n",
        "image = cv2.imread('image.png', cv2.IMREAD_GRAYSCALE)\n",
        "\n",
        "# Apply edge detection\n",
        "edges = cv2.Canny(image, 100, 200)\n",
        "\n",
        "# Find contours\n",
        "contours, _ = cv2.findContours(edges, cv2.RETR_EXTERNAL, cv2.CHAIN_APPROX_SIMPLE)\n",
        "\n",
        "# Draw and complete contours\n",
        "for contour in contours:\n",
        "    # Analyze contour to find gaps\n",
        "    # Example: Use curve fitting or interpolation to fill the gaps\n",
        "    # Here we just draw the existing contours\n",
        "    cv2.drawContours(image, [contour], 0, (255, 255, 255), 2)\n",
        "\n",
        "# Display the result\n",
        "cv2.imshow('Completed Curves', image)\n",
        "cv2.waitKey(0)\n",
        "cv2.destroyAllWindows()\n"
      ],
      "metadata": {
        "id": "jf83m1qOXgC8"
      },
      "execution_count": null,
      "outputs": []
    }
  ]
}